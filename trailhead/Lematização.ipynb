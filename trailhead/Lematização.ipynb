{
 "cells": [
  {
   "cell_type": "markdown",
   "id": "f10ce5c0-e456-41dc-beda-db74208d1451",
   "metadata": {
    "tags": []
   },
   "source": [
    "Dúvida: a Lematização no trailhead fala de #1 verbros transformados para o presente, #2 que considera o contexto para melhor definifir a lematização de uma palavra (morcego é um animal ou clube de banco?).\n",
    "\n",
    "A questão é: isto é uma tradução do inglês ou realmente temos isso em português?"
   ]
  },
  {
   "cell_type": "code",
   "execution_count": 4,
   "id": "48aa4b4e-bb53-4a7a-8a61-b16c579abf5e",
   "metadata": {},
   "outputs": [
    {
     "data": {
      "application/vnd.jupyter.widget-view+json": {
       "model_id": "7eefa4bf30404210be8a3ea045e671d0",
       "version_major": 2,
       "version_minor": 0
      },
      "text/plain": [
       "Downloading https://raw.githubusercontent.com/stanfordnlp/stanza-resources/main/resources_1.2.2.json:   0%|   …"
      ]
     },
     "metadata": {},
     "output_type": "display_data"
    },
    {
     "name": "stderr",
     "output_type": "stream",
     "text": [
      "2022-04-16 12:15:28 INFO: Downloading default packages for language: pt (Portuguese)...\n"
     ]
    },
    {
     "data": {
      "application/vnd.jupyter.widget-view+json": {
       "model_id": "403c1678e8f24fa6ba2f5e88da40ae3d",
       "version_major": 2,
       "version_minor": 0
      },
      "text/plain": [
       "Downloading http://nlp.stanford.edu/software/stanza/1.2.2/pt/default.zip:   0%|          | 0.00/209M [00:00<?,…"
      ]
     },
     "metadata": {},
     "output_type": "display_data"
    },
    {
     "name": "stderr",
     "output_type": "stream",
     "text": [
      "2022-04-16 12:16:47 INFO: Finished downloading models and saved to C:\\Users\\airto\\stanza_resources.\n"
     ]
    }
   ],
   "source": [
    "# stanza.download('pt') # download English model"
   ]
  },
  {
   "cell_type": "code",
   "execution_count": 1,
   "id": "8536da14-748f-49b6-85a4-4c5c5851626c",
   "metadata": {},
   "outputs": [],
   "source": [
    "import stanza"
   ]
  },
  {
   "cell_type": "code",
   "execution_count": 5,
   "id": "56e842a8-1a2e-4eb4-b35d-1385c958c4d1",
   "metadata": {},
   "outputs": [
    {
     "name": "stderr",
     "output_type": "stream",
     "text": [
      "2022-04-16 12:16:47 WARNING: Can not find mwt: default from official model list. Ignoring it.\n",
      "2022-04-16 12:16:47 INFO: Loading these models for language: en (English):\n",
      "========================\n",
      "| Processor | Package  |\n",
      "------------------------\n",
      "| tokenize  | combined |\n",
      "| pos       | combined |\n",
      "| lemma     | combined |\n",
      "========================\n",
      "\n",
      "2022-04-16 12:16:47 INFO: Use device: cpu\n",
      "2022-04-16 12:16:47 INFO: Loading: tokenize\n",
      "2022-04-16 12:16:47 INFO: Loading: pos\n",
      "2022-04-16 12:16:47 INFO: Loading: lemma\n",
      "2022-04-16 12:16:47 INFO: Done loading processors!\n"
     ]
    },
    {
     "name": "stdout",
     "output_type": "stream",
     "text": [
      "word: Barack \tlemma: Barack\n",
      "word: Obama \tlemma: Obama\n",
      "word: was \tlemma: be\n",
      "word: born \tlemma: bear\n",
      "word: in \tlemma: in\n",
      "word: Hawaii \tlemma: Hawaii\n",
      "word: . \tlemma: .\n"
     ]
    }
   ],
   "source": [
    "nlp = stanza.Pipeline(lang='en', processors='tokenize,mwt,pos,lemma')\n",
    "doc = nlp('Barack Obama was born in Hawaii.')\n",
    "print(*[f'word: {word.text+\" \"}\\tlemma: {word.lemma}' for sent in doc.sentences for word in sent.words], sep='\\n')"
   ]
  },
  {
   "cell_type": "code",
   "execution_count": 6,
   "id": "b324ee00-0cc8-4325-996a-14bf8cc031ce",
   "metadata": {},
   "outputs": [
    {
     "name": "stderr",
     "output_type": "stream",
     "text": [
      "2022-04-16 12:16:47 INFO: Loading these models for language: pt (Portuguese):\n",
      "=======================\n",
      "| Processor | Package |\n",
      "-----------------------\n",
      "| tokenize  | bosque  |\n",
      "| mwt       | bosque  |\n",
      "| pos       | bosque  |\n",
      "| lemma     | bosque  |\n",
      "=======================\n",
      "\n",
      "2022-04-16 12:16:47 INFO: Use device: cpu\n",
      "2022-04-16 12:16:47 INFO: Loading: tokenize\n",
      "2022-04-16 12:16:47 INFO: Loading: mwt\n",
      "2022-04-16 12:16:47 INFO: Loading: pos\n",
      "2022-04-16 12:16:47 INFO: Loading: lemma\n",
      "2022-04-16 12:16:47 INFO: Done loading processors!\n"
     ]
    },
    {
     "name": "stdout",
     "output_type": "stream",
     "text": [
      "word: Eu \tlemma: eu\n",
      "word: comi \tlemma: comer\n",
      "word: uma \tlemma: um\n",
      "word: maça \tlemma: maça\n",
      "word: . \tlemma: .\n"
     ]
    }
   ],
   "source": [
    "nlp = stanza.Pipeline(lang='pt', processors='tokenize,mwt,pos,lemma')\n",
    "doc = nlp('Eu comi uma maça.')\n",
    "print(*[f'word: {word.text+\" \"}\\tlemma: {word.lemma}' for sent in doc.sentences for word in sent.words], sep='\\n')"
   ]
  }
 ],
 "metadata": {
  "kernelspec": {
   "display_name": "Python 3 (ipykernel)",
   "language": "python",
   "name": "python3"
  },
  "language_info": {
   "codemirror_mode": {
    "name": "ipython",
    "version": 3
   },
   "file_extension": ".py",
   "mimetype": "text/x-python",
   "name": "python",
   "nbconvert_exporter": "python",
   "pygments_lexer": "ipython3",
   "version": "3.9.12"
  }
 },
 "nbformat": 4,
 "nbformat_minor": 5
}
